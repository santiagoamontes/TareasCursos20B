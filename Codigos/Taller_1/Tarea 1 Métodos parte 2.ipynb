{
 "cells": [
  {
   "cell_type": "markdown",
   "metadata": {},
   "source": [
    "**Nombre:** Santiago Andrés Montes Camacho.\n",
    "**Código:** 2210718"
   ]
  },
  {
   "cell_type": "code",
   "execution_count": 4,
   "metadata": {},
   "outputs": [],
   "source": [
    "import numpy as np"
   ]
  },
  {
   "cell_type": "code",
   "execution_count": 5,
   "metadata": {},
   "outputs": [],
   "source": [
    "a = np.array([1,2,3])\n",
    "b = np.array([4,5,6])\n",
    "c = np.array([3,2,1])\n",
    "d = np.array([6,5,4])"
   ]
  },
  {
   "cell_type": "markdown",
   "metadata": {},
   "source": [
    "### A) Encuentre:"
   ]
  },
  {
   "cell_type": "code",
   "execution_count": 6,
   "metadata": {},
   "outputs": [
    {
     "data": {
      "text/plain": [
       "array([14, 14, 14])"
      ]
     },
     "execution_count": 6,
     "metadata": {},
     "output_type": "execute_result"
    }
   ],
   "source": [
    "V = a + b + c + d\n",
    "V"
   ]
  },
  {
   "cell_type": "code",
   "execution_count": 7,
   "metadata": {},
   "outputs": [
    {
     "data": {
      "text/plain": [
       "array([-4,  0,  4])"
      ]
     },
     "execution_count": 7,
     "metadata": {},
     "output_type": "execute_result"
    }
   ],
   "source": [
    "W = a + b - c - d\n",
    "W"
   ]
  },
  {
   "cell_type": "code",
   "execution_count": 8,
   "metadata": {},
   "outputs": [
    {
     "data": {
      "text/plain": [
       "array([-6, -6, -6])"
      ]
     },
     "execution_count": 8,
     "metadata": {},
     "output_type": "execute_result"
    }
   ],
   "source": [
    "X = a - b + c - d\n",
    "X"
   ]
  },
  {
   "cell_type": "code",
   "execution_count": 9,
   "metadata": {},
   "outputs": [
    {
     "data": {
      "text/plain": [
       "array([6, 6, 6])"
      ]
     },
     "execution_count": 9,
     "metadata": {},
     "output_type": "execute_result"
    }
   ],
   "source": [
    "Z = - a + b - c + d\n",
    "Z"
   ]
  },
  {
   "cell_type": "markdown",
   "metadata": {},
   "source": [
    "### B) Ángulo entre a,b,c,d y los vectores base\n"
   ]
  },
  {
   "cell_type": "code",
   "execution_count": 10,
   "metadata": {},
   "outputs": [],
   "source": [
    "#Norma de cada vector a,b,c,d\n",
    "n_a=np.sqrt(np.dot(a,a))\n",
    "n_b=np.sqrt(np.dot(b,b))\n",
    "n_c=np.sqrt(np.dot(c,c))\n",
    "n_d=np.sqrt(np.dot(d,d))"
   ]
  },
  {
   "cell_type": "markdown",
   "metadata": {},
   "source": [
    "**Vector a**:"
   ]
  },
  {
   "cell_type": "code",
   "execution_count": 11,
   "metadata": {},
   "outputs": [
    {
     "name": "stdout",
     "output_type": "stream",
     "text": [
      "Ángulo 1: 74.5\n",
      "Ángulo 2: 57.69\n",
      "Ángulo 3: 36.7\n"
     ]
    }
   ],
   "source": [
    "#Se calculan los ángulos alpha, beta y gamma para el vector a\n",
    "alpha_a = np.round(np.degrees(np.arccos(a[0]/n_a)),2)\n",
    "beta_a = np.round(np.degrees(np.arccos(a[1]/n_a)),2) \n",
    "gamma_a = np.round(np.degrees(np.arccos(a[2]/n_a)),2)\n",
    "\n",
    "print('Ángulo 1: ' + str(alpha_a))\n",
    "print('Ángulo 2: ' + str(beta_a))\n",
    "print('Ángulo 3: ' + str(gamma_a))"
   ]
  },
  {
   "cell_type": "markdown",
   "metadata": {},
   "source": [
    "**Vector b**:"
   ]
  },
  {
   "cell_type": "code",
   "execution_count": 13,
   "metadata": {},
   "outputs": [
    {
     "name": "stdout",
     "output_type": "stream",
     "text": [
      "Ángulo 1: 62.88\n",
      "Ángulo 2: 55.26\n",
      "Ángulo 3: 46.86\n"
     ]
    }
   ],
   "source": [
    "#Se calculan los ángulos alpha, beta y gamma para el vector b\n",
    "\n",
    "alpha_b = np.round(np.degrees(np.arccos(b[0]/n_b)),2)\n",
    "beta_b = np.round(np.degrees(np.arccos(b[1]/n_b)),2)\n",
    "gamma_b = np.round(np.degrees(np.arccos(b[2]/n_b)),2)\n",
    "\n",
    "print('Ángulo 1: ' + str(alpha_b))\n",
    "print('Ángulo 2: ' + str(beta_b))\n",
    "print('Ángulo 3: ' + str(gamma_b))"
   ]
  },
  {
   "cell_type": "markdown",
   "metadata": {},
   "source": [
    "**Vector c:**"
   ]
  },
  {
   "cell_type": "code",
   "execution_count": 126,
   "metadata": {},
   "outputs": [
    {
     "name": "stdout",
     "output_type": "stream",
     "text": [
      "Ángulo 1: 36.7\n",
      "Ángulo 2: 57.69\n",
      "Ángulo 3: 74.5\n"
     ]
    }
   ],
   "source": [
    "#Se calculan los ángulos alpha, beta y gamma para el vector c\n",
    "\n",
    "alpha_c = np.round(np.degrees(np.arccos(c[0]/n_c)),2)\n",
    "beta_c = np.round(np.degrees(np.arccos(c[1]/n_c)),2)\n",
    "gamma_c = np.round(np.degrees(np.arccos(c[2]/n_c)),2)\n",
    "\n",
    "print('Ángulo 1: ' + str(alpha_c))\n",
    "print('Ángulo 2: ' + str(beta_c))\n",
    "print('Ángulo 3: ' + str(gamma_c))"
   ]
  },
  {
   "cell_type": "markdown",
   "metadata": {},
   "source": [
    "**Vector d:**"
   ]
  },
  {
   "cell_type": "code",
   "execution_count": 127,
   "metadata": {},
   "outputs": [
    {
     "name": "stdout",
     "output_type": "stream",
     "text": [
      "Ángulo 1: 46.86\n",
      "Ángulo 2: 55.26\n",
      "Ángulo 3: 62.88\n"
     ]
    }
   ],
   "source": [
    "#Se calculan los ángulos alpha, beta y gamma para el vector d\n",
    "\n",
    "alpha_d = np.round(np.degrees(np.arccos(d[0]/n_d)),2)\n",
    "beta_d = np.round(np.degrees(np.arccos(d[1]/n_d)),2)\n",
    "gamma_d = np.round(np.degrees(np.arccos(d[2]/n_d)),2)\n",
    "\n",
    "print('Ángulo 1: ' + str(alpha_d))\n",
    "print('Ángulo 2: ' + str(beta_d))\n",
    "print('Ángulo 3: ' + str(gamma_d))"
   ]
  },
  {
   "cell_type": "markdown",
   "metadata": {},
   "source": [
    "### C) Magnitud de los vectores a,b,c,d"
   ]
  },
  {
   "cell_type": "code",
   "execution_count": 52,
   "metadata": {},
   "outputs": [
    {
     "name": "stdout",
     "output_type": "stream",
     "text": [
      "La norma de a es: 3.74\n",
      "La norma de b es: 8.77\n",
      "La norma de c es: 3.74\n",
      "La norma de d es: 8.77\n"
     ]
    }
   ],
   "source": [
    "#Esto ya lo utilizamos para calcular el ejercicio anterior, luego podemo simplemente llamar las mismas variables\n",
    "print('La norma de a es: '+ str(np.round(n_a,2)))\n",
    "print('La norma de b es: '+ str(np.round(n_b,2)))\n",
    "print('La norma de c es: '+ str(np.round(n_c,2)))\n",
    "print('La norma de d es: '+ str(np.round(n_d,2)))"
   ]
  },
  {
   "cell_type": "markdown",
   "metadata": {},
   "source": [
    "###  D) Ángulo entre a y b y entre c y d"
   ]
  },
  {
   "cell_type": "code",
   "execution_count": 20,
   "metadata": {},
   "outputs": [
    {
     "name": "stdout",
     "output_type": "stream",
     "text": [
      "El ángulo entre a y b es: 12.93\n",
      "El ángulo entre a y c es: 44.42\n",
      "El ángulo entre a y d es: 31.48\n",
      "El ángulo entre b y c es: 31.48\n",
      "El ángulo entre b y d es: 18.55\n",
      "El ángulo entre c y d es: 12.93\n"
     ]
    }
   ],
   "source": [
    "theta_1 = np.round(np.degrees(np.arccos(np.dot(a,b)/((n_a)*(n_b)))),2)\n",
    "theta_2 = np.round(np.degrees(np.arccos(np.dot(a,c)/((n_a)*(n_c)))),2)\n",
    "theta_3 = np.round(np.degrees(np.arccos(np.dot(a,d)/((n_a)*(n_d)))),2)\n",
    "theta_4 = np.round(np.degrees(np.arccos(np.dot(b,c)/((n_b)*(n_c)))),2)\n",
    "theta_5 = np.round(np.degrees(np.arccos(np.dot(b,d)/((n_b)*(n_d)))),2)\n",
    "theta_6 = np.round(np.degrees(np.arccos(np.dot(c,d)/((n_c)*(n_d)))),2)\n",
    "\n",
    "\n",
    "print(\"El ángulo entre a y b es: \" + str(theta_1))\n",
    "print(\"El ángulo entre a y c es: \" + str(theta_2))\n",
    "print(\"El ángulo entre a y d es: \" + str(theta_3))\n",
    "print(\"El ángulo entre b y c es: \" + str(theta_4))\n",
    "print(\"El ángulo entre b y d es: \" + str(theta_5))\n",
    "print(\"El ángulo entre c y d es: \" + str(theta_6))"
   ]
  },
  {
   "cell_type": "markdown",
   "metadata": {},
   "source": [
    "### E) Proyección de a sobre b"
   ]
  },
  {
   "cell_type": "code",
   "execution_count": 19,
   "metadata": {},
   "outputs": [
    {
     "name": "stdout",
     "output_type": "stream",
     "text": [
      "La proyección de a sobre b es: [1.66 2.08 2.49]\n"
     ]
    }
   ],
   "source": [
    "P = np.round(np.dot(a,b)*b/(n_b**2),2)\n",
    "print(\"La proyección de a sobre b es: \" + str(P))"
   ]
  },
  {
   "cell_type": "markdown",
   "metadata": {},
   "source": [
    "### F) ¿Son los vectores a,b,c,d coplanares?"
   ]
  },
  {
   "cell_type": "markdown",
   "metadata": {},
   "source": [
    "Dado que son 4 vectores y la dimensión del espacio es n = 3, luego los 4 vectores son linealmente dependientes. En este sentido se presenta una coplanaridad entre estos."
   ]
  },
  {
   "cell_type": "markdown",
   "metadata": {},
   "source": [
    "### G) Encuentre (a+b).(c+d)"
   ]
  },
  {
   "cell_type": "code",
   "execution_count": 77,
   "metadata": {},
   "outputs": [
    {
     "name": "stdout",
     "output_type": "stream",
     "text": [
      "El resultado es: 139\n"
     ]
    }
   ],
   "source": [
    "R = np.dot((a+b),(c+d))\n",
    "print('El resultado es: ' + str(R))"
   ]
  },
  {
   "cell_type": "markdown",
   "metadata": {},
   "source": [
    "### H) Hallar los productos axb, bxc, cxd y los ángulos que forman con d"
   ]
  },
  {
   "cell_type": "code",
   "execution_count": 17,
   "metadata": {},
   "outputs": [
    {
     "name": "stdout",
     "output_type": "stream",
     "text": [
      "El producto axb es: [-3  6 -3] y forma un ángulo de: 90.0° con el vector d\n",
      "El producto axb es: [-7 14 -7] y forma un ángulo de: 90.0° con el vector d\n",
      "El producto axb es: [ 3 -6  3] y forma un ángulo de: 90.0° con el vector d\n"
     ]
    }
   ],
   "source": [
    "R1 = np.cross(a,b)\n",
    "R2 = np.cross(b,c)\n",
    "R3 = np.cross(c,d)\n",
    "\n",
    "n_R1 = np.round(np.sqrt(np.dot(R1,R1)),2)\n",
    "n_R2 = np.round(np.sqrt(np.dot(R2,R2)),2)\n",
    "n_R3 = np.round(np.sqrt(np.dot(R3,R3)),2)\n",
    "\n",
    "beta_1 = np.round(np.degrees(np.arccos(np.dot(R1,d)/((n_R1)*(n_d)))),2)\n",
    "beta_2 = np.round(np.degrees(np.arccos(np.dot(R2,d)/((n_R2)*(n_d)))),2)\n",
    "beta_3 = np.round(np.degrees(np.arccos(np.dot(R3,d)/((n_R3)*(n_d)))),2)\n",
    "\n",
    "print('El producto axb es: ' + str(R1) + ' y forma un ángulo de: ' + str(beta_1) + '° con el vector d')\n",
    "print('El producto axb es: ' + str(R2) + ' y forma un ángulo de: ' + str(beta_2) + '° con el vector d')\n",
    "print('El producto axb es: ' + str(R3) + ' y forma un ángulo de: ' + str(beta_3) + '° con el vector d')"
   ]
  },
  {
   "cell_type": "markdown",
   "metadata": {},
   "source": [
    "### I) Hallar c.(axb)"
   ]
  },
  {
   "cell_type": "code",
   "execution_count": 115,
   "metadata": {},
   "outputs": [
    {
     "name": "stdout",
     "output_type": "stream",
     "text": [
      "El resultado es: 0\n"
     ]
    }
   ],
   "source": [
    "T = np.dot(c, np.cross(a,b))\n",
    "print('El resultado es: ' + str(T))"
   ]
  }
 ],
 "metadata": {
  "kernelspec": {
   "display_name": "Python 3",
   "language": "python",
   "name": "python3"
  },
  "language_info": {
   "codemirror_mode": {
    "name": "ipython",
    "version": 3
   },
   "file_extension": ".py",
   "mimetype": "text/x-python",
   "name": "python",
   "nbconvert_exporter": "python",
   "pygments_lexer": "ipython3",
   "version": "3.7.3"
  }
 },
 "nbformat": 4,
 "nbformat_minor": 4
}
