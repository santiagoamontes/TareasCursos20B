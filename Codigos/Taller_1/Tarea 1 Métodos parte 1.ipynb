{
 "cells": [
  {
   "cell_type": "markdown",
   "metadata": {},
   "source": [
    "***Nombre:*** Santigo Andrés Montes Camacho ***Código:*** 2210718"
   ]
  },
  {
   "cell_type": "markdown",
   "metadata": {},
   "source": [
    "Dados 3 vectores que formen un triangulo, a continuación se llevará a cabo el cálculo de su centroide, así como la visualización de esto."
   ]
  },
  {
   "cell_type": "code",
   "execution_count": 3,
   "metadata": {},
   "outputs": [],
   "source": [
    "import numpy as np\n",
    "import matplotlib.pyplot as plt"
   ]
  },
  {
   "cell_type": "code",
   "execution_count": 4,
   "metadata": {},
   "outputs": [
    {
     "name": "stdout",
     "output_type": "stream",
     "text": [
      "Introduzca el punto horizontal para el origen de su triángulo: 1\n",
      "Introduzca el punto vertical para el origen de su triángulo: 1\n",
      "Introduzca el tamaño horizontal del primer vector: 3\n",
      "Introduzca el tamaño vertical del primer vector: 5\n",
      "Introduzca el tamaño horizontal del segundo vector: 4\n",
      "Introduzca el tamaño vertical del segundo vector: 2\n"
     ]
    }
   ],
   "source": [
    "#Definiendo origen del triángulo\n",
    "x0 = float(input(\"Introduzca el punto horizontal para el origen de su triángulo: \"))\n",
    "y0 = float(input(\"Introduzca el punto vertical para el origen de su triángulo: \"))\n",
    "\n",
    "\n",
    "#Tamaño vertical y horizontal del primer vector\n",
    "ax = float(input(\"Introduzca el tamaño horizontal del primer vector: \"))\n",
    "ay = float(input(\"Introduzca el tamaño vertical del primer vector: \"))\n",
    "\n",
    "bx = float(input(\"Introduzca el tamaño horizontal del segundo vector: \"))\n",
    "by = float(input(\"Introduzca el tamaño vertical del segundo vector: \"))\n"
   ]
  },
  {
   "cell_type": "code",
   "execution_count": 5,
   "metadata": {},
   "outputs": [
    {
     "name": "stdout",
     "output_type": "stream",
     "text": [
      "El vector de centroide es: \n",
      "[4.33 5.  ]\n"
     ]
    }
   ],
   "source": [
    "origen = [x0,y0] #Vector origen, no se graficará solo se tendrá en cuenta como partida\n",
    "v = [ax, ay] #primer vector con sus componentes vertical y horizontal\n",
    "w = [bx, by] #Segundo vector con sus componentes vertical y horizontal                                       \n",
    " \n",
    "o = np.array(origen) \n",
    "\n",
    "a = np.array(v)\n",
    "b = np.array(w)\n",
    "\n",
    "A = o + a\n",
    "\n",
    "C = a + b\n",
    "\n",
    "p = a + b + o\n",
    "\n",
    "g = np.round(((1/3 * (o + (a + o) + (o + a + b)))),2)\n",
    "\n",
    "array = np.array([[origen[0], origen[1], v[0], v[1]],\n",
    "              [A[0], A[1], w[0], w[1]],\n",
    "              [origen[0], origen[1], C[0], C[1]],\n",
    "                 [0, 0, g[0], g[1]]])\n",
    "\n",
    "print('El vector de centroide es: ')\n",
    "print(g)"
   ]
  },
  {
   "cell_type": "code",
   "execution_count": 14,
   "metadata": {
    "scrolled": false
   },
   "outputs": [
    {
     "data": {
      "image/png": "[encoded data removed]",
      "text/plain": [
       "<Figure size 432x288 with 1 Axes>"
      ]
     },
     "metadata": {
      "needs_background": "light"
     },
     "output_type": "display_data"
    }
   ],
   "source": [
    "X, Y, V, W = zip(*array)\n",
    "plt.figure()\n",
    "plt.ylabel('Eje Y')\n",
    "plt.xlabel('Eje X')\n",
    "ax = plt.gca()\n",
    "\n",
    "ax.annotate(f'A({o[0]},{o[1]})', (o[0],o[1]),fontsize=14)#coord del vector\n",
    "\n",
    "ax.annotate(f'B({A[0]},{A[1]})', (A[0],A[1]),fontsize=14)#coord del vector\n",
    "ax.annotate(f'C({p[0]},{p[1]})', (p[0], p[1]),fontsize=14) #coord del vector\n",
    "ax.annotate(f'G({g[0]},{g[1]})', (g[0], g[1]),fontsize=14) #coord del vector\n",
    "\n",
    "ax.quiver(X, Y, V, W, angles='xy', scale_units='xy',color=['r','black','g', 'blue'],scale=1) #vector\n",
    "ax.set_xlim([0, 10]) #Eje horizontal\n",
    "ax.set_ylim([0, 10]) #Eje vertical\n",
    "\n",
    "\n",
    "plt.grid()\n",
    "plt.draw()\n",
    "plt.show()"
   ]
  }
 ],
 "metadata": {
  "kernelspec": {
   "display_name": "Python 3",
   "language": "python",
   "name": "python3"
  },
  "language_info": {
   "codemirror_mode": {
    "name": "ipython",
    "version": 3
   },
   "file_extension": ".py",
   "mimetype": "text/x-python",
   "name": "python",
   "nbconvert_exporter": "python",
   "pygments_lexer": "ipython3",
   "version": "3.7.3"
  }
 },
 "nbformat": 4,
 "nbformat_minor": 4
}
