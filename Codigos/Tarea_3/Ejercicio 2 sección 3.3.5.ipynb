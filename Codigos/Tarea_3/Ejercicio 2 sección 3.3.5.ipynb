{
 "cells": [
  {
   "cell_type": "markdown",
   "metadata": {},
   "source": [
    "### Ejercicio 2 - sección 3.3.5"
   ]
  },
  {
   "cell_type": "code",
   "execution_count": 2,
   "metadata": {},
   "outputs": [],
   "source": [
    "#Importamos bibliotecas\n",
    "import sympy as sp\n",
    "import numpy as np\n",
    "from fractions import Fraction\n",
    "import torch as tc"
   ]
  },
  {
   "cell_type": "markdown",
   "metadata": {},
   "source": [
    "Dados los tensores $R^{i}_{j} = \\begin{pmatrix} 1/2 & 1 & 3/2 \\\\ 2 & 5/2 & 3 \\\\ 7/2 & 4 & 9/2\\end{pmatrix}$, $~T^{i} = \\begin{pmatrix} 1/3 \\\\  2/3  \\\\ 1 \\end{pmatrix}$, $~~g^{ij} = g_{ij} =  \\begin{pmatrix} 1 & 0 & 0 \\\\ 0 & -1 & 0 \\\\ 0 & 0 & 1 \\end{pmatrix}$,"
   ]
  },
  {
   "cell_type": "markdown",
   "metadata": {},
   "source": [
    "Encuentre: \n",
    "\n",
    "_**a)**_ La parte simétrica $S^{i}_j$ y antisimétrica $A^{i}_j$ de $R^{i}_j$."
   ]
  },
  {
   "cell_type": "code",
   "execution_count": 3,
   "metadata": {},
   "outputs": [],
   "source": [
    "#Creamos los tensores\n",
    "R= np.array([[1/2, 1, 3/2],[2, 5/2, 3], [7/2, 4, 9/2]]) \n",
    "T = np.array([1/3,2/3,1])\n",
    "g = np.array([[1, 0, 0],[0, -1, 0], [0, 0, 1]])\n"
   ]
  },
  {
   "cell_type": "code",
   "execution_count": 4,
   "metadata": {},
   "outputs": [
    {
     "name": "stdout",
     "output_type": "stream",
     "text": [
      "La parte simétrica de R es = \n",
      " [[0.5 1.5 2.5]\n",
      " [1.5 2.5 3.5]\n",
      " [2.5 3.5 4.5]]\n",
      "La parte antisimétrica de R es = \n",
      " [[ 0.  -0.5 -1. ]\n",
      " [ 0.5  0.  -0.5]\n",
      " [ 1.   0.5  0. ]]\n"
     ]
    }
   ],
   "source": [
    "#Descomponemos el tensor R en sus componentes simétricas y antisimétricas\n",
    "R_s = (R + R.T)/2\n",
    "R_a = (R - R.T)/2\n",
    "\n",
    "#Imprimimos los resultados en forma de matriz\n",
    "print(\"La parte simétrica de R es = \\n\",R_s)\n",
    "print(\"La parte antisimétrica de R es = \\n\", (R_a))\n"
   ]
  },
  {
   "cell_type": "markdown",
   "metadata": {},
   "source": [
    "_**b)**_  ¿Qué se concluye de estos cálculos?\n",
    "$R_{kj} = g_{ik}R^{i}_j,~ ~R^{ki} = g^{jk}R^{i}_j, ~~T_j = g_{ij}T^{i}$"
   ]
  },
  {
   "cell_type": "markdown",
   "metadata": {},
   "source": [
    "Se concluye que el tensor $g_i{ij}$ sirve para subir o bajar índices de los demás tensores. Sin embargo, al existir ese \"-1\" en $g$, los tensores no se mantienen invariantes, solo se conservan los elementos de la diagonal y el elemento del centro cambia de signo."
   ]
  },
  {
   "cell_type": "code",
   "execution_count": 5,
   "metadata": {},
   "outputs": [
    {
     "name": "stdout",
     "output_type": "stream",
     "text": [
      "El tensor R_k es = \n",
      " [[ 0.5  1.   1.5]\n",
      " [-2.  -2.5 -3. ]\n",
      " [ 3.5  4.   4.5]]\n",
      "El tensor R_k es = \n",
      " [[ 0.5  2.   3.5]\n",
      " [-1.  -2.5 -4. ]\n",
      " [ 1.5  3.   4.5]]\n",
      "El tensor gT es = \n",
      " [ 0.33333333 -0.66666667  1.        ]\n"
     ]
    }
   ],
   "source": [
    "#Multiplicamos los componentes del tensor R por el tensor g\n",
    "R_k = np.einsum('ik, ij -> kj', g, R)\n",
    "print(\"El tensor R_k es = \\n\", R_k)\n",
    "\n",
    "\n",
    "#Multiplicamos los componentes del tensor R por el tensor g\n",
    "R_k = np.einsum('jk, ij -> ki', g, R)\n",
    "print(\"El tensor R_k es = \\n\", R_k)\n",
    "\n",
    "#Multiplicación de g por T, queda una matriz de 3x1\n",
    "gT = np.einsum('ij, i -> j', g, T)\n",
    "print(\"El tensor gT es = \\n\", gT)\n"
   ]
  },
  {
   "cell_type": "markdown",
   "metadata": {},
   "source": [
    "_**c)**_ $R^{i}_j T_i = $"
   ]
  },
  {
   "cell_type": "code",
   "execution_count": 6,
   "metadata": {},
   "outputs": [
    {
     "name": "stdout",
     "output_type": "stream",
     "text": [
      "El tensor a es = \n",
      " [5. 6. 7.]\n"
     ]
    }
   ],
   "source": [
    "#producto entre los tensores R y T\n",
    "a = np.einsum('ij, i -> j', R, T)\n",
    "print(\"El tensor a es = \\n\", a)"
   ]
  },
  {
   "cell_type": "markdown",
   "metadata": {},
   "source": [
    "$R^{i}_j T^{j} =$"
   ]
  },
  {
   "cell_type": "code",
   "execution_count": 7,
   "metadata": {},
   "outputs": [
    {
     "name": "stdout",
     "output_type": "stream",
     "text": [
      "El tensor b es = \n",
      " [2.33333333 5.33333333 8.33333333]\n"
     ]
    }
   ],
   "source": [
    "b = np.einsum('ij, j -> i', R, T)\n",
    "print(\"El tensor b es = \\n\", b)"
   ]
  },
  {
   "cell_type": "markdown",
   "metadata": {},
   "source": [
    "$R^{i}_j T_i T^{j} = $"
   ]
  },
  {
   "cell_type": "code",
   "execution_count": 8,
   "metadata": {},
   "outputs": [
    {
     "name": "stdout",
     "output_type": "stream",
     "text": [
      "El tensor c es = \n",
      " 12.666666666666666\n"
     ]
    }
   ],
   "source": [
    "c = np.einsum('ij, i->j', R, T)\n",
    "c = np.einsum('j, j', c, T)\n",
    "print(\"El tensor c es = \\n\", c)"
   ]
  },
  {
   "cell_type": "markdown",
   "metadata": {},
   "source": [
    "_**d)**_ $R^{i}_j S^{j}_i=$"
   ]
  },
  {
   "cell_type": "code",
   "execution_count": 9,
   "metadata": {},
   "outputs": [
    {
     "name": "stdout",
     "output_type": "stream",
     "text": [
      "El tensor a es = \n",
      " 68.25\n"
     ]
    }
   ],
   "source": [
    "a = np.einsum('ij, ji', R, R_s)\n",
    "print(\"El tensor a es = \\n\", a)"
   ]
  },
  {
   "cell_type": "markdown",
   "metadata": {},
   "source": [
    "$R^{i}_j A^j_i=$"
   ]
  },
  {
   "cell_type": "code",
   "execution_count": 10,
   "metadata": {},
   "outputs": [
    {
     "name": "stdout",
     "output_type": "stream",
     "text": [
      "El tensor b es = \n",
      " -3.0\n"
     ]
    }
   ],
   "source": [
    "b = np.einsum('ij, ji', R, R_a)\n",
    "print(\"El tensor b es = \\n\", b)"
   ]
  },
  {
   "cell_type": "markdown",
   "metadata": {},
   "source": [
    "$A^{j}_i T^{i}=$"
   ]
  },
  {
   "cell_type": "code",
   "execution_count": 11,
   "metadata": {},
   "outputs": [
    {
     "name": "stdout",
     "output_type": "stream",
     "text": [
      "El tensor c es = \n",
      " [ 1.33333333  0.33333333 -0.66666667]\n"
     ]
    }
   ],
   "source": [
    "c = np.einsum('ij, i -> j', R_a, T)\n",
    "print(\"El tensor c es = \\n\", c)\n"
   ]
  },
  {
   "cell_type": "markdown",
   "metadata": {},
   "source": [
    "$A^{j}_iT^{i}T_j=$"
   ]
  },
  {
   "cell_type": "code",
   "execution_count": 12,
   "metadata": {},
   "outputs": [
    {
     "name": "stdout",
     "output_type": "stream",
     "text": [
      "El tensor d es = \n",
      " 0.0\n"
     ]
    }
   ],
   "source": [
    "d = np.einsum('i, j', T, T)\n",
    "d = np.einsum('ij, ij', R_a, d)\n",
    "print(\"El tensor d es = \\n\", d)\n"
   ]
  },
  {
   "cell_type": "markdown",
   "metadata": {},
   "source": [
    "_**e)**_ $R^{i}_j - 2 \\delta^{i}_jR^{l}_l=$"
   ]
  },
  {
   "cell_type": "code",
   "execution_count": 13,
   "metadata": {},
   "outputs": [
    {
     "name": "stdout",
     "output_type": "stream",
     "text": [
      "El tensor a es = \n",
      " [[-14.5   1.    1.5]\n",
      " [  2.  -12.5   3. ]\n",
      " [  3.5   4.  -10.5]]\n"
     ]
    }
   ],
   "source": [
    "#Definimos el tensor de kronecker\n",
    "k = np.eye(3)\n",
    "a = np.einsum('ij', R) - 2* np.einsum('ij, ll', k, R)\n",
    "print(\"El tensor a es = \\n\", a)\n"
   ]
  },
  {
   "cell_type": "markdown",
   "metadata": {},
   "source": [
    "$(R^{i}_j - 2 \\delta^{i}_jR^{l}_l)T_i=$"
   ]
  },
  {
   "cell_type": "code",
   "execution_count": 17,
   "metadata": {},
   "outputs": [
    {
     "name": "stdout",
     "output_type": "stream",
     "text": [
      "El tensor b es = \n",
      " [ 0. -4. -8.]\n"
     ]
    }
   ],
   "source": [
    "b = np.einsum('ij, i->j', a, T)\n",
    "print(\"El tensor b es = \\n\", b)"
   ]
  },
  {
   "cell_type": "markdown",
   "metadata": {},
   "source": [
    "$(R^{i}_j - 2 \\delta^{i}_jR^{l}_l) T_iT^{j}=$"
   ]
  },
  {
   "cell_type": "code",
   "execution_count": 21,
   "metadata": {},
   "outputs": [
    {
     "name": "stdout",
     "output_type": "stream",
     "text": [
      "El tensor d es = \n",
      " -10.666666666666666\n"
     ]
    }
   ],
   "source": [
    "c = np.einsum('ij, i->j', a, T)\n",
    "de = np.einsum('j, j', c, T)\n",
    "print(\"El tensor d es = \\n\", de)"
   ]
  }
 ],
 "metadata": {
  "kernelspec": {
   "display_name": "Python 3.10.5 64-bit",
   "language": "python",
   "name": "python3"
  },
  "language_info": {
   "codemirror_mode": {
    "name": "ipython",
    "version": 3
   },
   "file_extension": ".py",
   "mimetype": "text/x-python",
   "name": "python",
   "nbconvert_exporter": "python",
   "pygments_lexer": "ipython3",
   "version": "3.10.5"
  },
  "orig_nbformat": 4,
  "vscode": {
   "interpreter": {
    "hash": "26de051ba29f2982a8de78e945f0abaf191376122a1563185a90213a26c5da77"
   }
  }
 },
 "nbformat": 4,
 "nbformat_minor": 2
}
